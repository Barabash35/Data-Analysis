{
 "cells": [
  {
   "cell_type": "code",
   "execution_count": 1,
   "metadata": {},
   "outputs": [
    {
     "data": {
      "text/plain": [
       "array([0.11904762, 1.        , 0.        , 0.19047619, 0.09360731,\n",
       "       0.        , 0.        , 0.26530612, 1.        , 0.35714286,\n",
       "       0.5       , 0.        , 1.        ])"
      ]
     },
     "execution_count": 1,
     "metadata": {},
     "output_type": "execute_result"
    }
   ],
   "source": [
    "import numpy as np # linear algebra\n",
    "import pandas as pd # data processing, CSV file I/O (e.g. pd.read_csv)\n",
    "\n",
    "from sklearn.model_selection import train_test_split\n",
    "\n",
    "import tensorflow as tf\n",
    "from tensorflow import keras\n",
    "from tensorflow.keras import layers\n",
    "\n",
    "import re\n",
    "import string\n",
    "\n",
    "import matplotlib.pyplot as plt\n",
    "from sklearn.preprocessing import StandardScaler, MinMaxScaler\n",
    "%matplotlib inline\n",
    "\n",
    "\n",
    "df = pd.read_csv('Heart Attack Data Set.csv')\n",
    "df.head()\n",
    "\n",
    "X = df.drop(['target'], axis = 1)\n",
    "y = df['target']\n",
    "X_train, X_test, y_train, y_test = train_test_split(X, y, test_size=0.6)\n",
    "\n",
    "scaler = MinMaxScaler()\n",
    "scaler.fit(X_train)\n",
    "\n",
    "scaled_X_train = scaler.transform(X_train) \n",
    "scaled_X_test = scaler.transform(X_test)\n",
    "\n",
    "y_train = keras.utils.to_categorical(y_train, 2)\n",
    "y_test = keras.utils.to_categorical(y_test, 2)\n",
    "scaled_X_train[0][:]"
   ]
  },
  {
   "cell_type": "code",
   "execution_count": 2,
   "metadata": {},
   "outputs": [
    {
     "name": "stdout",
     "output_type": "stream",
     "text": [
      "Model: \"sequential\"\n",
      "_________________________________________________________________\n",
      "Layer (type)                 Output Shape              Param #   \n",
      "=================================================================\n",
      "dense (Dense)                (None, 14)                196       \n",
      "_________________________________________________________________\n",
      "dense_1 (Dense)              (None, 14)                210       \n",
      "_________________________________________________________________\n",
      "dense_2 (Dense)              (None, 2)                 30        \n",
      "=================================================================\n",
      "Total params: 436\n",
      "Trainable params: 436\n",
      "Non-trainable params: 0\n",
      "_________________________________________________________________\n",
      "('Failed to import pydot. You must `pip install pydot` and install graphviz (https://graphviz.gitlab.io/download/), ', 'for `pydotprint` to work.')\n"
     ]
    }
   ],
   "source": [
    "model =  keras.Sequential()\n",
    "model.add(layers.Dense(14, activation='relu', input_shape=(13,)))\n",
    "model.add(layers.Dense(14, activation='relu'))\n",
    "model.add(layers.Dense(2, activation='sigmoid'))\n",
    "\n",
    "model.summary()\n",
    "model.compile(loss='binary_crossentropy',   optimizer='adam', metrics=['accuracy'])\n",
    "keras.utils.plot_model(model, show_shapes=True)"
   ]
  },
  {
   "cell_type": "code",
   "execution_count": 3,
   "metadata": {},
   "outputs": [
    {
     "name": "stdout",
     "output_type": "stream",
     "text": [
      "Epoch 1/15\n",
      "18/18 - 0s - loss: 0.6808 - accuracy: 0.4889 - val_loss: 0.6671 - val_accuracy: 0.5484\n",
      "Epoch 2/15\n",
      "18/18 - 0s - loss: 0.6751 - accuracy: 0.5000 - val_loss: 0.6609 - val_accuracy: 0.5806\n",
      "Epoch 3/15\n",
      "18/18 - 0s - loss: 0.6704 - accuracy: 0.5111 - val_loss: 0.6565 - val_accuracy: 0.5806\n",
      "Epoch 4/15\n",
      "18/18 - 0s - loss: 0.6636 - accuracy: 0.5667 - val_loss: 0.6487 - val_accuracy: 0.5806\n",
      "Epoch 5/15\n",
      "18/18 - 0s - loss: 0.6572 - accuracy: 0.6111 - val_loss: 0.6367 - val_accuracy: 0.6129\n",
      "Epoch 6/15\n",
      "18/18 - 0s - loss: 0.6479 - accuracy: 0.6556 - val_loss: 0.6239 - val_accuracy: 0.7742\n",
      "Epoch 7/15\n",
      "18/18 - 0s - loss: 0.6376 - accuracy: 0.7111 - val_loss: 0.6101 - val_accuracy: 0.8387\n",
      "Epoch 8/15\n",
      "18/18 - 0s - loss: 0.6265 - accuracy: 0.7444 - val_loss: 0.5972 - val_accuracy: 0.9355\n",
      "Epoch 9/15\n",
      "18/18 - 0s - loss: 0.6144 - accuracy: 0.7556 - val_loss: 0.5788 - val_accuracy: 0.9355\n",
      "Epoch 10/15\n",
      "18/18 - 0s - loss: 0.6024 - accuracy: 0.7556 - val_loss: 0.5576 - val_accuracy: 0.9677\n",
      "Epoch 11/15\n",
      "18/18 - 0s - loss: 0.5876 - accuracy: 0.8111 - val_loss: 0.5444 - val_accuracy: 1.0000\n",
      "Epoch 12/15\n",
      "18/18 - 0s - loss: 0.5698 - accuracy: 0.8333 - val_loss: 0.5210 - val_accuracy: 1.0000\n",
      "Epoch 13/15\n",
      "18/18 - 0s - loss: 0.5513 - accuracy: 0.8222 - val_loss: 0.4918 - val_accuracy: 1.0000\n",
      "Epoch 14/15\n",
      "18/18 - 0s - loss: 0.5325 - accuracy: 0.8444 - val_loss: 0.4695 - val_accuracy: 0.9677\n",
      "Epoch 15/15\n",
      "18/18 - 0s - loss: 0.5091 - accuracy: 0.8222 - val_loss: 0.4421 - val_accuracy: 0.9355\n"
     ]
    }
   ],
   "source": [
    "history = model.fit(scaled_X_train,\n",
    "                    y_train,\n",
    "                    epochs=15,\n",
    "                    batch_size=5,                                   \n",
    "                    validation_split=0.25,\n",
    "                    verbose = 2)"
   ]
  },
  {
   "cell_type": "code",
   "execution_count": 4,
   "metadata": {},
   "outputs": [],
   "source": [
    "def show_some(arr):\n",
    "    loss_values = arr[\"loss\"]\n",
    "    val_loss_values = arr[\"val_loss\"]\n",
    "    epochs = range(1, len(loss_values) + 1)\n",
    "    plt.plot(epochs, loss_values, \"bo\", label=\"Training loss\")\n",
    "    plt.plot(epochs, val_loss_values, \"b\", label=\"Validation loss\")\n",
    "    plt.title(\"Training and validation loss\")\n",
    "    plt.xlabel(\"Epochs\")\n",
    "    plt.ylabel(\"Loss\")\n",
    "    plt.grid()\n",
    "    plt.legend()\n",
    "    plt.show()"
   ]
  },
  {
   "cell_type": "code",
   "execution_count": 5,
   "metadata": {},
   "outputs": [
    {
     "data": {
      "image/png": "[encoded data removed]",
      "text/plain": [
       "<Figure size 432x288 with 1 Axes>"
      ]
     },
     "metadata": {
      "needs_background": "light"
     },
     "output_type": "display_data"
    }
   ],
   "source": [
    "\n",
    "history_dict = history.history\n",
    "show_some(history_dict)"
   ]
  },
  {
   "cell_type": "code",
   "execution_count": 6,
   "metadata": {},
   "outputs": [
    {
     "name": "stdout",
     "output_type": "stream",
     "text": [
      "Test score: 0.5440478324890137\n",
      "Test accuracy: 0.7582417726516724\n"
     ]
    }
   ],
   "source": [
    "score = model.evaluate(scaled_X_test, y_test, verbose=0) \n",
    "print('Test score:', score[0]) \n",
    "print('Test accuracy:', score[1])"
   ]
  },
  {
   "cell_type": "code",
   "execution_count": 7,
   "metadata": {},
   "outputs": [
    {
     "name": "stdout",
     "output_type": "stream",
     "text": [
      "Model: \"sequential_1\"\n",
      "_________________________________________________________________\n",
      "Layer (type)                 Output Shape              Param #   \n",
      "=================================================================\n",
      "dense_3 (Dense)              (None, 14)                196       \n",
      "_________________________________________________________________\n",
      "dropout (Dropout)            (None, 14)                0         \n",
      "_________________________________________________________________\n",
      "dense_4 (Dense)              (None, 14)                210       \n",
      "_________________________________________________________________\n",
      "dropout_1 (Dropout)          (None, 14)                0         \n",
      "_________________________________________________________________\n",
      "dense_5 (Dense)              (None, 2)                 30        \n",
      "=================================================================\n",
      "Total params: 436\n",
      "Trainable params: 436\n",
      "Non-trainable params: 0\n",
      "_________________________________________________________________\n",
      "('Failed to import pydot. You must `pip install pydot` and install graphviz (https://graphviz.gitlab.io/download/), ', 'for `pydotprint` to work.')\n"
     ]
    }
   ],
   "source": [
    "model =  keras.Sequential()\n",
    "model.add(layers.Dense(14, activation='relu', input_shape=(13,)))\n",
    "model.add(layers.Dropout(0.5))\n",
    "model.add(layers.Dense(14, activation='relu'))\n",
    "model.add(layers.Dropout(0.3))\n",
    "model.add(layers.Dense(2, activation='sigmoid'))\n",
    "\n",
    "model.summary()\n",
    "model.compile(loss='binary_crossentropy',   optimizer='adam', metrics=['accuracy'])\n",
    "\n",
    "keras.utils.plot_model(model, show_shapes=True)"
   ]
  },
  {
   "cell_type": "code",
   "execution_count": 8,
   "metadata": {},
   "outputs": [
    {
     "name": "stdout",
     "output_type": "stream",
     "text": [
      "Epoch 1/15\n",
      "18/18 - 0s - loss: 0.8184 - accuracy: 0.4444 - val_loss: 0.6830 - val_accuracy: 0.5161\n",
      "Epoch 2/15\n",
      "18/18 - 0s - loss: 0.7620 - accuracy: 0.5000 - val_loss: 0.6799 - val_accuracy: 0.5161\n",
      "Epoch 3/15\n",
      "18/18 - 0s - loss: 0.7470 - accuracy: 0.4778 - val_loss: 0.6771 - val_accuracy: 0.5806\n",
      "Epoch 4/15\n",
      "18/18 - 0s - loss: 0.7218 - accuracy: 0.5444 - val_loss: 0.6745 - val_accuracy: 0.5806\n",
      "Epoch 5/15\n",
      "18/18 - 0s - loss: 0.7278 - accuracy: 0.5333 - val_loss: 0.6738 - val_accuracy: 0.6129\n",
      "Epoch 6/15\n",
      "18/18 - 0s - loss: 0.7404 - accuracy: 0.4444 - val_loss: 0.6729 - val_accuracy: 0.7419\n",
      "Epoch 7/15\n",
      "18/18 - 0s - loss: 0.7254 - accuracy: 0.5667 - val_loss: 0.6694 - val_accuracy: 0.7419\n",
      "Epoch 8/15\n",
      "18/18 - 0s - loss: 0.7017 - accuracy: 0.5333 - val_loss: 0.6656 - val_accuracy: 0.7419\n",
      "Epoch 9/15\n",
      "18/18 - 0s - loss: 0.7194 - accuracy: 0.5000 - val_loss: 0.6649 - val_accuracy: 0.8387\n",
      "Epoch 10/15\n",
      "18/18 - 0s - loss: 0.7144 - accuracy: 0.5111 - val_loss: 0.6624 - val_accuracy: 0.8710\n",
      "Epoch 11/15\n",
      "18/18 - 0s - loss: 0.6875 - accuracy: 0.5778 - val_loss: 0.6599 - val_accuracy: 0.9032\n",
      "Epoch 12/15\n",
      "18/18 - 0s - loss: 0.7066 - accuracy: 0.5333 - val_loss: 0.6567 - val_accuracy: 0.9032\n",
      "Epoch 13/15\n",
      "18/18 - 0s - loss: 0.6646 - accuracy: 0.6556 - val_loss: 0.6507 - val_accuracy: 0.9032\n",
      "Epoch 14/15\n",
      "18/18 - 0s - loss: 0.6949 - accuracy: 0.6111 - val_loss: 0.6463 - val_accuracy: 0.9677\n",
      "Epoch 15/15\n",
      "18/18 - 0s - loss: 0.6829 - accuracy: 0.6222 - val_loss: 0.6390 - val_accuracy: 0.9032\n"
     ]
    }
   ],
   "source": [
    "history = model.fit(scaled_X_train,\n",
    "                    y_train,\n",
    "                    epochs=15,\n",
    "                    batch_size=5,                                   \n",
    "                    validation_split=0.25,\n",
    "                    verbose = 2)"
   ]
  },
  {
   "cell_type": "code",
   "execution_count": 9,
   "metadata": {},
   "outputs": [
    {
     "data": {
      "image/png": "[encoded data removed]",
      "text/plain": [
       "<Figure size 432x288 with 1 Axes>"
      ]
     },
     "metadata": {
      "needs_background": "light"
     },
     "output_type": "display_data"
    }
   ],
   "source": [
    "history_dict = history.history\n",
    "show_some(history_dict)"
   ]
  },
  {
   "cell_type": "code",
   "execution_count": 10,
   "metadata": {},
   "outputs": [
    {
     "name": "stdout",
     "output_type": "stream",
     "text": [
      "Model: \"sequential_2\"\n",
      "_________________________________________________________________\n",
      "Layer (type)                 Output Shape              Param #   \n",
      "=================================================================\n",
      "dense_6 (Dense)              (None, 14)                196       \n",
      "_________________________________________________________________\n",
      "batch_normalization (BatchNo (None, 14)                56        \n",
      "_________________________________________________________________\n",
      "activation (Activation)      (None, 14)                0         \n",
      "_________________________________________________________________\n",
      "dropout_2 (Dropout)          (None, 14)                0         \n",
      "_________________________________________________________________\n",
      "dense_7 (Dense)              (None, 14)                210       \n",
      "_________________________________________________________________\n",
      "batch_normalization_1 (Batch (None, 14)                56        \n",
      "_________________________________________________________________\n",
      "activation_1 (Activation)    (None, 14)                0         \n",
      "_________________________________________________________________\n",
      "dropout_3 (Dropout)          (None, 14)                0         \n",
      "_________________________________________________________________\n",
      "dense_8 (Dense)              (None, 2)                 30        \n",
      "=================================================================\n",
      "Total params: 548\n",
      "Trainable params: 492\n",
      "Non-trainable params: 56\n",
      "_________________________________________________________________\n",
      "('Failed to import pydot. You must `pip install pydot` and install graphviz (https://graphviz.gitlab.io/download/), ', 'for `pydotprint` to work.')\n"
     ]
    }
   ],
   "source": [
    "model =  keras.Sequential()\n",
    "\n",
    "model.add(layers.Dense(14, input_shape=(13,)))\n",
    "model.add(layers.BatchNormalization()) \n",
    "model.add(layers.Activation('softmax')) \n",
    "model.add(layers.Dropout(0.5))\n",
    "\n",
    "model.add(layers.Dense(14))\n",
    "model.add(layers.BatchNormalization()) \n",
    "model.add(layers.Activation('relu')) \n",
    "model.add(layers.Dropout(0.3))\n",
    "\n",
    "model.add(layers.Dense(2, activation='sigmoid'))\n",
    "\n",
    "model.summary()\n",
    "model.compile(loss='binary_crossentropy',   optimizer='adam', metrics=['accuracy'])\n",
    "\n",
    "keras.utils.plot_model(model, show_shapes=True)"
   ]
  },
  {
   "cell_type": "code",
   "execution_count": 11,
   "metadata": {},
   "outputs": [
    {
     "name": "stdout",
     "output_type": "stream",
     "text": [
      "Epoch 1/15\n",
      "18/18 - 0s - loss: 0.8061 - accuracy: 0.5000 - val_loss: 0.6967 - val_accuracy: 0.4839\n",
      "Epoch 2/15\n",
      "18/18 - 0s - loss: 0.7893 - accuracy: 0.4778 - val_loss: 0.6949 - val_accuracy: 0.4839\n",
      "Epoch 3/15\n",
      "18/18 - 0s - loss: 0.7888 - accuracy: 0.5444 - val_loss: 0.6919 - val_accuracy: 0.5161\n",
      "Epoch 4/15\n",
      "18/18 - 0s - loss: 0.7777 - accuracy: 0.5556 - val_loss: 0.6899 - val_accuracy: 0.5161\n",
      "Epoch 5/15\n",
      "18/18 - 0s - loss: 0.7221 - accuracy: 0.5778 - val_loss: 0.6869 - val_accuracy: 0.5161\n",
      "Epoch 6/15\n",
      "18/18 - 0s - loss: 0.7582 - accuracy: 0.5111 - val_loss: 0.6825 - val_accuracy: 0.5161\n",
      "Epoch 7/15\n",
      "18/18 - 0s - loss: 0.6806 - accuracy: 0.6000 - val_loss: 0.6786 - val_accuracy: 0.5806\n",
      "Epoch 8/15\n",
      "18/18 - 0s - loss: 0.6971 - accuracy: 0.5222 - val_loss: 0.6727 - val_accuracy: 0.6452\n",
      "Epoch 9/15\n",
      "18/18 - 0s - loss: 0.6972 - accuracy: 0.5556 - val_loss: 0.6672 - val_accuracy: 0.7419\n",
      "Epoch 10/15\n",
      "18/18 - 0s - loss: 0.7043 - accuracy: 0.5778 - val_loss: 0.6627 - val_accuracy: 0.8065\n",
      "Epoch 11/15\n",
      "18/18 - 0s - loss: 0.6478 - accuracy: 0.6889 - val_loss: 0.6565 - val_accuracy: 0.8387\n",
      "Epoch 12/15\n",
      "18/18 - 0s - loss: 0.6942 - accuracy: 0.5778 - val_loss: 0.6496 - val_accuracy: 0.9032\n",
      "Epoch 13/15\n",
      "18/18 - 0s - loss: 0.6470 - accuracy: 0.6111 - val_loss: 0.6405 - val_accuracy: 0.9032\n",
      "Epoch 14/15\n",
      "18/18 - 0s - loss: 0.6883 - accuracy: 0.6111 - val_loss: 0.6321 - val_accuracy: 0.9032\n",
      "Epoch 15/15\n",
      "18/18 - 0s - loss: 0.6077 - accuracy: 0.7333 - val_loss: 0.6212 - val_accuracy: 0.9355\n"
     ]
    }
   ],
   "source": [
    "history = model.fit(scaled_X_train,\n",
    "                    y_train,\n",
    "                    epochs=15,\n",
    "                    batch_size=5,                                   \n",
    "                    validation_split=0.25,\n",
    "                    verbose = 2)"
   ]
  },
  {
   "cell_type": "code",
   "execution_count": 12,
   "metadata": {},
   "outputs": [
    {
     "data": {
      "image/png": "[encoded data removed]",
      "text/plain": [
       "<Figure size 432x288 with 1 Axes>"
      ]
     },
     "metadata": {
      "needs_background": "light"
     },
     "output_type": "display_data"
    }
   ],
   "source": [
    "(X_train_full, y_train_full), (X_test, y_test) = keras.datasets.fashion_mnist.load_data() #train - 60_000 of 28x28 imgs, test - 10_000 of 28x28 imgs\n",
    "\n",
    "plt.imshow(X_train_full[2])\n",
    "X_train = X_train_full[:5000] / 255.0\n",
    "y_train = y_train_full[:5000]\n",
    "X_test = X_test[:5000] / 255.0\n",
    "y_test = y_test[:5000]\n",
    "X_train = X_train.reshape(X_train.shape[0], X_train.shape[1], X_train.shape[2], 1)\n",
    "X_test = X_test.reshape(X_test.shape[0], X_test.shape[1], X_test.shape[2], 1)\n"
   ]
  },
  {
   "cell_type": "code",
   "execution_count": 13,
   "metadata": {},
   "outputs": [
    {
     "name": "stdout",
     "output_type": "stream",
     "text": [
      "Model: \"sequential_3\"\n",
      "_________________________________________________________________\n",
      "Layer (type)                 Output Shape              Param #   \n",
      "=================================================================\n",
      "conv2d (Conv2D)              (None, 26, 26, 64)        640       \n",
      "_________________________________________________________________\n",
      "max_pooling2d (MaxPooling2D) (None, 13, 13, 64)        0         \n",
      "_________________________________________________________________\n",
      "batch_normalization_2 (Batch (None, 13, 13, 64)        256       \n",
      "_________________________________________________________________\n",
      "conv2d_1 (Conv2D)            (None, 13, 13, 64)        36928     \n",
      "_________________________________________________________________\n",
      "max_pooling2d_1 (MaxPooling2 (None, 6, 6, 64)          0         \n",
      "_________________________________________________________________\n",
      "batch_normalization_3 (Batch (None, 6, 6, 64)          256       \n",
      "_________________________________________________________________\n",
      "conv2d_2 (Conv2D)            (None, 6, 6, 128)         73856     \n",
      "_________________________________________________________________\n",
      "max_pooling2d_2 (MaxPooling2 (None, 3, 3, 128)         0         \n",
      "_________________________________________________________________\n",
      "batch_normalization_4 (Batch (None, 3, 3, 128)         512       \n",
      "_________________________________________________________________\n",
      "flatten (Flatten)            (None, 1152)              0         \n",
      "_________________________________________________________________\n",
      "dense_9 (Dense)              (None, 128)               147584    \n",
      "_________________________________________________________________\n",
      "dropout_4 (Dropout)          (None, 128)               0         \n",
      "_________________________________________________________________\n",
      "dense_10 (Dense)             (None, 10)                1290      \n",
      "=================================================================\n",
      "Total params: 261,322\n",
      "Trainable params: 260,810\n",
      "Non-trainable params: 512\n",
      "_________________________________________________________________\n",
      "('Failed to import pydot. You must `pip install pydot` and install graphviz (https://graphviz.gitlab.io/download/), ', 'for `pydotprint` to work.')\n"
     ]
    }
   ],
   "source": [
    "model = keras.Sequential()\n",
    "model.add(layers.Conv2D(64, kernel_size=(3, 3), padding='valid', activation='relu', input_shape=(28, 28, 1)))\n",
    "model.add(layers.MaxPooling2D((2, 2)))\n",
    "model.add(layers.BatchNormalization())\n",
    "\n",
    "model.add(layers.Conv2D(64, 3, padding='same', activation='relu'))\n",
    "model.add(layers.MaxPooling2D((2, 2)))\n",
    "model.add(layers.BatchNormalization())\n",
    "\n",
    "model.add(layers.Conv2D(128, 3, padding='same', activation='relu'))\n",
    "model.add(layers.MaxPooling2D((2, 2)))\n",
    "model.add(layers.BatchNormalization())\n",
    "\n",
    "model.add(layers.Flatten())\n",
    "model.add(layers.Dense(128, activation='relu'))\n",
    "model.add(layers.Dropout(0.2))\n",
    "model.add(layers.Dense(10, activation='softmax'))\n",
    "\n",
    "model.summary()\n",
    "model.compile(loss='categorical_crossentropy', optimizer='adam', metrics=['accuracy'])\n",
    "keras.utils.plot_model(model, show_shapes=True)"
   ]
  },
  {
   "cell_type": "code",
   "execution_count": 14,
   "metadata": {},
   "outputs": [
    {
     "name": "stdout",
     "output_type": "stream",
     "text": [
      "Epoch 1/15\n",
      "125/125 [==============================] - 7s 60ms/step - loss: 0.7719 - accuracy: 0.7343 - val_loss: 2.6275 - val_accuracy: 0.2460\n",
      "Epoch 2/15\n",
      "125/125 [==============================] - 7s 58ms/step - loss: 0.4605 - accuracy: 0.8350 - val_loss: 2.4703 - val_accuracy: 0.3030\n",
      "Epoch 3/15\n",
      "125/125 [==============================] - 7s 54ms/step - loss: 0.3680 - accuracy: 0.8622 - val_loss: 1.7906 - val_accuracy: 0.5190\n",
      "Epoch 4/15\n",
      "125/125 [==============================] - 7s 56ms/step - loss: 0.3067 - accuracy: 0.8860 - val_loss: 0.6765 - val_accuracy: 0.7410\n",
      "Epoch 5/15\n",
      "125/125 [==============================] - 7s 57ms/step - loss: 0.2590 - accuracy: 0.9030 - val_loss: 0.4228 - val_accuracy: 0.8500\n",
      "Epoch 6/15\n",
      "125/125 [==============================] - 7s 56ms/step - loss: 0.2081 - accuracy: 0.9240 - val_loss: 0.3098 - val_accuracy: 0.8850\n",
      "Epoch 7/15\n",
      "125/125 [==============================] - 7s 54ms/step - loss: 0.1600 - accuracy: 0.9425 - val_loss: 0.3299 - val_accuracy: 0.8900\n",
      "Epoch 8/15\n",
      "125/125 [==============================] - 7s 56ms/step - loss: 0.1352 - accuracy: 0.9485 - val_loss: 0.3496 - val_accuracy: 0.8920\n",
      "Epoch 9/15\n",
      "125/125 [==============================] - 7s 55ms/step - loss: 0.1112 - accuracy: 0.9600 - val_loss: 0.3900 - val_accuracy: 0.8750\n",
      "Epoch 10/15\n",
      "125/125 [==============================] - 7s 55ms/step - loss: 0.1151 - accuracy: 0.9595 - val_loss: 0.3443 - val_accuracy: 0.8860\n",
      "Epoch 11/15\n",
      "125/125 [==============================] - 7s 59ms/step - loss: 0.0738 - accuracy: 0.9722 - val_loss: 0.3992 - val_accuracy: 0.8860\n"
     ]
    }
   ],
   "source": [
    "monitor = keras.callbacks.EarlyStopping(patience=5, min_delta=0.01, monitor='val_accuracy', restore_best_weights=True)\n",
    "y_train = keras.utils.to_categorical(y_train, 10)\n",
    "y_test = keras.utils.to_categorical(y_test, 10)\n",
    "history = model.fit(X_train, y_train, epochs=15, batch_size=32, validation_split=0.2, verbose=1, callbacks=[monitor])"
   ]
  },
  {
   "cell_type": "code",
   "execution_count": 15,
   "metadata": {},
   "outputs": [
    {
     "data": {
      "image/png": "[encoded data removed]",
      "text/plain": [
       "<Figure size 432x288 with 1 Axes>"
      ]
     },
     "metadata": {
      "needs_background": "light"
     },
     "output_type": "display_data"
    }
   ],
   "source": [
    "show_some(history.history)"
   ]
  },
  {
   "cell_type": "code",
   "execution_count": 2,
   "metadata": {},
   "outputs": [
    {
     "name": "stdout",
     "output_type": "stream",
     "text": [
      "max phrase len: 15199\n"
     ]
    }
   ],
   "source": [
    "def clean_text(text):\n",
    "    text = text.lower()\n",
    "    text = re.sub(\"@\\S+\", \" \", text)\n",
    "    text = re.sub(\"https*\\S+\", \" \", text)\n",
    "    text = re.sub(\"#\\S+\", \" \", text)\n",
    "    text = re.sub(\"\\d\", \" \", text)\n",
    "    text = re.sub('[%s]' % re.escape(string.punctuation), ' ', text)\n",
    "    text = re.sub('\\n', ' ', text)\n",
    "    text = re.sub('\\s{2,}',' ', text)\n",
    "\n",
    "text_data = pd.read_csv('fake_or_real_news.csv', encoding='latin-1')\n",
    "\n",
    "text_data = text_data.drop(columns=['Unnamed: 0','title'], axis = 1)\n",
    "\n",
    "\n",
    "text_data_train = text_data.loc[:2534]\n",
    "text_data_test = text_data.loc[2534:]\n",
    "\n",
    "positive_data_train = text_data_train[text_data_train.label == 'REAL']\n",
    "negative_data_train = text_data_train[text_data_train.label == 'FAKE']\n",
    "extreme_data_train = pd.concat([positive_data_train, negative_data_train])\n",
    "extreme_data_train[\"label\"] = extreme_data_train.label.apply(lambda i : 1 if i=='REAL' else 0)\n",
    "\n",
    "positive_data_test = text_data_test[text_data_test.label == 'REAL']\n",
    "negative_data_test = text_data_test[text_data_test.label == 'FAKE']\n",
    "extreme_data_test = pd.concat([positive_data_test, negative_data_test])\n",
    "extreme_data_test[\"label\"] = extreme_data_test.label.apply(lambda i : 1 if i=='REAL' else 0)\n",
    "\n",
    "X_train = extreme_data_train['text']\n",
    "X_test = extreme_data_test['text']\n",
    "phrase_len = X_train.apply(lambda p: len(p.split(' ')))\n",
    "max_phrase_len = phrase_len.max()\n",
    "y_train = extreme_data_train[\"label\"]\n",
    "y_test = extreme_data_test[\"label\"]\n",
    "\n",
    "print('max phrase len: {0}'.format(max_phrase_len))\n"
   ]
  },
  {
   "cell_type": "code",
   "execution_count": 3,
   "metadata": {},
   "outputs": [
    {
     "data": {
      "text/plain": [
       "array([[   0,    0,    0, ...,    3, 5743,   22],\n",
       "       [   0,    0,    0, ...,  522,  230,    6],\n",
       "       [   0,    0,    0, ...,  519,  815,  111],\n",
       "       ...,\n",
       "       [   0,    0,    0, ..., 2478,   36, 2193],\n",
       "       [   0,    0,    0, ..., 5297,    4, 9615],\n",
       "       [   0,    0,    0, ..., 1208,  411,  563]])"
      ]
     },
     "execution_count": 3,
     "metadata": {},
     "output_type": "execute_result"
    }
   ],
   "source": [
    "max_words = 10000\n",
    "tokenizer = keras.preprocessing.text.Tokenizer(num_words= max_words, filters=' !\"#$%&()*+,./:;<=>?@[\\\\]^_`{|}~\\t\\n')\n",
    "tokenizer.fit_on_texts(X_train)\n",
    "X_train = tokenizer.texts_to_sequences(X_train)\n",
    "X_train = keras.preprocessing.sequence.pad_sequences(X_train, maxlen=max_phrase_len)\n",
    "y_train = tf.keras.utils.to_categorical(y_train)\n",
    "y_test = tf.keras.utils.to_categorical(y_test)\n",
    "X_train"
   ]
  },
  {
   "cell_type": "code",
   "execution_count": 4,
   "metadata": {},
   "outputs": [
    {
     "name": "stdout",
     "output_type": "stream",
     "text": [
      "('Failed to import pydot. You must `pip install pydot` and install graphviz (https://graphviz.gitlab.io/download/), ', 'for `pydotprint` to work.')\n"
     ]
    }
   ],
   "source": [
    "emb_dim = 128\n",
    "\n",
    "model = keras.Sequential()\n",
    "model.add(layers.Embedding(input_dim = max_words, output_dim = emb_dim, input_length = max_phrase_len))\n",
    "model.add(layers.SpatialDropout1D(0.2))\n",
    "model.add(layers.LSTM(emb_dim, dropout = 0.2, recurrent_dropout = 0.2))\n",
    "model.add(layers.Dense(emb_dim, activation = 'relu'))\n",
    "model.add(layers.Dropout(0.3))\n",
    "model.add(layers.Dense(2, activation = 'softmax'))\n",
    "model.compile(\n",
    "    loss='categorical_crossentropy',\n",
    "    optimizer='Adam',\n",
    "    metrics=['accuracy']\n",
    ")\n",
    "keras.utils.plot_model(model, show_shapes=True)"
   ]
  },
  {
   "cell_type": "code",
   "execution_count": null,
   "metadata": {},
   "outputs": [],
   "source": [
    "history = model.fit(X_train,\n",
    "                    y_train,\n",
    "                    epochs=5,\n",
    "                    batch_size=512,\n",
    "                    validation_split=0.25,\n",
    "                    verbose = 2)\n",
    "print(model.summary())"
   ]
  },
  {
   "cell_type": "code",
   "execution_count": null,
   "metadata": {},
   "outputs": [],
   "source": [
    "loss = history.history['loss']\n",
    "val_loss = history.history['val_loss']\n",
    "epochs = range(1, len(loss) + 1)\n",
    "plt.plot(epochs, loss, 'b', label='Training loss')\n",
    "plt.plot(epochs, val_loss, 'r', label='Validation loss')\n",
    "plt.title('Training and validation loss')\n",
    "plt.xlabel('Epochs')\n",
    "plt.ylabel('Loss')\n",
    "plt.legend()\n",
    "\n",
    "acc = history.history['accuracy']\n",
    "val_acc = history.history['val_accuracy']\n",
    "plt.plot(epochs, acc, 'g', label='Training acc')\n",
    "plt.plot(epochs, val_acc, 'y', label='Validation acc')\n",
    "plt.title('Training and validation accuracy')\n",
    "plt.xlabel('Epochs')\n",
    "plt.ylabel('Accuracy')\n",
    "plt.grid()\n",
    "plt.legend()\n",
    "plt.show()"
   ]
  },
  {
   "cell_type": "code",
   "execution_count": null,
   "metadata": {},
   "outputs": [],
   "source": [
    "X_test = tokenizer.texts_to_sequences(X_test)\n",
    "X_test = keras.preprocessing.sequence.pad_sequences(X_test, maxlen=max_phrase_len)\n",
    "score = model.evaluate(X_test, y_test, verbose=0) \n",
    "print('Test score:', score[0]) \n",
    "print('Test accuracy:', score[1])"
   ]
  },
  {
   "cell_type": "code",
   "execution_count": null,
   "metadata": {},
   "outputs": [],
   "source": []
  }
 ],
 "metadata": {
  "kernelspec": {
   "display_name": "Python 3",
   "language": "python",
   "name": "python3"
  },
  "language_info": {
   "codemirror_mode": {
    "name": "ipython",
    "version": 3
   },
   "file_extension": ".py",
   "mimetype": "text/x-python",
   "name": "python",
   "nbconvert_exporter": "python",
   "pygments_lexer": "ipython3",
   "version": "3.8.3"
  }
 },
 "nbformat": 4,
 "nbformat_minor": 4
}
