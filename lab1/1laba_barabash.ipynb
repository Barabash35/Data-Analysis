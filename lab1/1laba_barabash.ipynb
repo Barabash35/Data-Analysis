{
 "cells": [
  {
   "cell_type": "code",
   "execution_count": 2,
   "metadata": {},
   "outputs": [],
   "source": [
    "import numpy as np\n",
    "import matplotlib.pyplot as plt\n",
    "%matplotlib inline\n",
    "import seaborn as sns"
   ]
  },
  {
   "cell_type": "raw",
   "metadata": {},
   "source": [
    "Згенеруємо випадкові точки"
   ]
  },
  {
   "cell_type": "code",
   "execution_count": 32,
   "metadata": {},
   "outputs": [],
   "source": [
    "X = np.random.rand(160,1)\n",
    "y = 2.5 + 5 * X+np.random.randn(160,1) "
   ]
  },
  {
   "cell_type": "raw",
   "metadata": {},
   "source": [
    "Візуалізуємо їх на двомірній площіні"
   ]
  },
  {
   "cell_type": "code",
   "execution_count": 33,
   "metadata": {},
   "outputs": [
    {
     "data": {
      "text/plain": [
       "Text(0, 0.5, '$y$')"
      ]
     },
     "execution_count": 33,
     "metadata": {},
     "output_type": "execute_result"
    },
    {
     "data": {
      "image/png": "[encoded data removed]",
      "text/plain": [
       "<Figure size 432x288 with 1 Axes>"
      ]
     },
     "metadata": {},
     "output_type": "display_data"
    }
   ],
   "source": [
    "plt.plot(X,y,'b.')\n",
    "plt.xlabel(\"$x$\", fontsize=18)\n",
    "plt.ylabel(\"$y$\", rotation=0, fontsize=18)"
   ]
  },
  {
   "cell_type": "raw",
   "metadata": {},
   "source": [
    "Розрахуємо функцію втрат та мінімізуємо їх градієнтним спуском"
   ]
  },
  {
   "cell_type": "code",
   "execution_count": 34,
   "metadata": {},
   "outputs": [],
   "source": [
    "def  cost(param,X,y):\n",
    "    m = len(y)\n",
    "    \n",
    "    predictions = X.dot(param)\n",
    "    cost = (1/2*m) * np.sum(np.square(predictions-y))\n",
    "    return cost"
   ]
  },
  {
   "cell_type": "code",
   "execution_count": 35,
   "metadata": {},
   "outputs": [],
   "source": [
    "def gradient_descent(X,y,param,learning_rate=0.01,iterations=100):\n",
    "    m = len(y)\n",
    "    cost_history = np.zeros(iterations)\n",
    "    param_history = np.zeros((iterations,2))\n",
    "    for it in range(iterations):\n",
    "        \n",
    "        prediction = np.dot(X,param)\n",
    "        \n",
    "        param = param -(1/m)*learning_rate*( X.T.dot((prediction - y)))\n",
    "        param_history[it,:] =param.T\n",
    "        cost_history[it]  = cost(param,X,y)\n",
    "        \n",
    "    return param, cost_history, param_history"
   ]
  },
  {
   "cell_type": "raw",
   "metadata": {},
   "source": [
    "Розрахуємо параметри"
   ]
  },
  {
   "cell_type": "code",
   "execution_count": 36,
   "metadata": {},
   "outputs": [
    {
     "name": "stdout",
     "output_type": "stream",
     "text": [
      "a:          2.495,\n",
      "b:          5.049\n"
     ]
    }
   ],
   "source": [
    "lr =0.001\n",
    "n_iter = 100000\n",
    "\n",
    "param = np.random.randn(2,1)\n",
    "\n",
    "X_b = np.c_[np.ones((len(X),1)),X]\n",
    "param,cost_history,param_history = gradient_descent(X_b,y,param,lr,n_iter)\n",
    "\n",
    "\n",
    "print('a:          {:0.3f},\\nb:          {:0.3f}'.format(param[0][0],param[1][0]))"
   ]
  },
  {
   "cell_type": "code",
   "execution_count": 37,
   "metadata": {},
   "outputs": [
    {
     "data": {
      "text/plain": [
       "array([[5.03961874],\n",
       "       [5.35518481],\n",
       "       [5.89459819],\n",
       "       [3.29539254],\n",
       "       [4.38157769],\n",
       "       [2.73514922],\n",
       "       [2.74864938],\n",
       "       [6.99406583],\n",
       "       [6.55412951],\n",
       "       [5.0102969 ],\n",
       "       [7.33357901],\n",
       "       [6.48636609],\n",
       "       [6.04047153],\n",
       "       [5.24578943],\n",
       "       [6.60968954],\n",
       "       [4.59686903],\n",
       "       [6.02586378],\n",
       "       [6.43294601],\n",
       "       [6.15581412],\n",
       "       [4.96644955],\n",
       "       [5.34919795],\n",
       "       [4.61221138],\n",
       "       [2.58320455],\n",
       "       [6.72300422],\n",
       "       [3.40809253],\n",
       "       [7.25944364],\n",
       "       [5.03173461],\n",
       "       [6.00495191],\n",
       "       [6.43502583],\n",
       "       [6.31529027],\n",
       "       [7.26337529],\n",
       "       [6.39557405],\n",
       "       [2.88332432],\n",
       "       [2.80090098],\n",
       "       [2.87526809],\n",
       "       [3.4069334 ],\n",
       "       [4.75646605],\n",
       "       [6.20308822],\n",
       "       [4.38894586],\n",
       "       [6.97597435],\n",
       "       [5.06056078],\n",
       "       [6.55846178],\n",
       "       [5.90185972],\n",
       "       [5.93451516],\n",
       "       [7.50907594],\n",
       "       [4.01473654],\n",
       "       [5.21752427],\n",
       "       [7.05157272],\n",
       "       [4.65093291],\n",
       "       [5.46652909],\n",
       "       [3.97719244],\n",
       "       [3.4084499 ],\n",
       "       [4.00709572],\n",
       "       [6.08560465],\n",
       "       [4.44587483],\n",
       "       [6.68713254],\n",
       "       [4.69202854],\n",
       "       [7.34328185],\n",
       "       [6.96539399],\n",
       "       [3.73471163],\n",
       "       [7.43706444],\n",
       "       [2.94539647],\n",
       "       [4.4237637 ],\n",
       "       [3.84478391],\n",
       "       [2.58149284],\n",
       "       [3.89287072],\n",
       "       [7.15280509],\n",
       "       [5.78451093],\n",
       "       [7.31204893],\n",
       "       [5.06849649],\n",
       "       [4.33766933],\n",
       "       [7.1877081 ],\n",
       "       [4.56912712],\n",
       "       [4.82721548],\n",
       "       [5.76218171],\n",
       "       [5.28773256],\n",
       "       [4.05503306],\n",
       "       [5.37148698],\n",
       "       [6.28477193],\n",
       "       [5.67063998],\n",
       "       [4.92053002],\n",
       "       [3.54292077],\n",
       "       [3.75562991],\n",
       "       [4.23561636],\n",
       "       [5.41611387],\n",
       "       [3.50172914],\n",
       "       [6.59590934],\n",
       "       [7.33414879],\n",
       "       [7.01129159],\n",
       "       [5.48846234],\n",
       "       [2.9199928 ],\n",
       "       [4.04007916],\n",
       "       [4.88228445],\n",
       "       [4.16765365],\n",
       "       [3.02259653],\n",
       "       [5.83012477],\n",
       "       [5.57992676],\n",
       "       [2.65528616],\n",
       "       [7.22062606],\n",
       "       [6.34155304],\n",
       "       [4.16916949],\n",
       "       [4.41476559],\n",
       "       [4.79097427],\n",
       "       [7.04544071],\n",
       "       [7.13456088],\n",
       "       [5.26566667],\n",
       "       [3.47391334],\n",
       "       [5.6638135 ],\n",
       "       [4.78408686],\n",
       "       [3.60156397],\n",
       "       [2.80658002],\n",
       "       [3.75819056],\n",
       "       [2.96101054],\n",
       "       [5.0725099 ],\n",
       "       [3.36747776],\n",
       "       [4.81832671],\n",
       "       [5.41530482],\n",
       "       [3.3956799 ],\n",
       "       [5.84583267],\n",
       "       [7.47030388],\n",
       "       [2.90420896],\n",
       "       [5.2243164 ],\n",
       "       [4.48231697],\n",
       "       [7.25073568],\n",
       "       [5.2153597 ],\n",
       "       [3.36180177],\n",
       "       [3.95421651],\n",
       "       [6.21067087],\n",
       "       [4.1611056 ],\n",
       "       [6.74882013],\n",
       "       [3.95371088],\n",
       "       [5.50000844],\n",
       "       [4.01802955],\n",
       "       [5.2187277 ],\n",
       "       [3.94271151],\n",
       "       [6.48852214],\n",
       "       [7.47643624],\n",
       "       [3.38070974],\n",
       "       [5.88004742],\n",
       "       [4.15860935],\n",
       "       [7.12364328],\n",
       "       [2.98586703],\n",
       "       [3.06534013],\n",
       "       [5.45106791],\n",
       "       [3.25959773],\n",
       "       [4.08188115],\n",
       "       [6.12303014],\n",
       "       [4.00174261],\n",
       "       [5.76400515],\n",
       "       [4.02706119],\n",
       "       [5.2858458 ],\n",
       "       [3.45275306],\n",
       "       [3.99597459],\n",
       "       [7.03988237],\n",
       "       [3.95468423],\n",
       "       [6.19435882],\n",
       "       [6.76455007],\n",
       "       [7.04821061],\n",
       "       [4.53898823],\n",
       "       [4.88948361]])"
      ]
     },
     "execution_count": 37,
     "metadata": {},
     "output_type": "execute_result"
    }
   ],
   "source": [
    "X_new_b = np.c_[np.ones((len(X),1)),X]\n",
    "y_predict = X_new_b.dot(param)"
   ]
  },
  {
   "cell_type": "raw",
   "metadata": {},
   "source": [
    "Аналітична форма лінійної регресії та знаходження параметрів"
   ]
  },
  {
   "cell_type": "code",
   "execution_count": 8,
   "metadata": {},
   "outputs": [
    {
     "name": "stdout",
     "output_type": "stream",
     "text": [
      "[[2.09974823]\n",
      " [5.57728529]]\n"
     ]
    }
   ],
   "source": [
    "X_b = np.c_[np.ones((160,1)),X]\n",
    "theta_best = np.linalg.inv(X_b.T.dot(X_b)).dot(X_b.T).dot(y)\n",
    "print(theta_best)"
   ]
  },
  {
   "cell_type": "raw",
   "metadata": {},
   "source": [
    "Розрахуємо та візуалізуємо значення y_predicted за допомогою параметрів, що були знайдені"
   ]
  },
  {
   "cell_type": "code",
   "execution_count": 9,
   "metadata": {},
   "outputs": [
    {
     "data": {
      "text/plain": [
       "array([[6.56349855],\n",
       "       [2.988868  ],\n",
       "       [7.40263063],\n",
       "       [7.2952037 ],\n",
       "       [6.29853681],\n",
       "       [5.82565841],\n",
       "       [3.58864162],\n",
       "       [6.85125337],\n",
       "       [7.15033104],\n",
       "       [5.98266284],\n",
       "       [3.02628318],\n",
       "       [2.20507791],\n",
       "       [3.97270896],\n",
       "       [3.15235863],\n",
       "       [4.52210966],\n",
       "       [4.81770865],\n",
       "       [5.00761392],\n",
       "       [6.31684885],\n",
       "       [6.17562746],\n",
       "       [2.12285307],\n",
       "       [2.3123752 ],\n",
       "       [4.9499551 ],\n",
       "       [2.89356169],\n",
       "       [5.06510907],\n",
       "       [5.56019273],\n",
       "       [6.1318693 ],\n",
       "       [6.12651645],\n",
       "       [3.97860362],\n",
       "       [4.1725961 ],\n",
       "       [6.28757317],\n",
       "       [4.82231667],\n",
       "       [4.0131912 ],\n",
       "       [3.71964699],\n",
       "       [5.0472785 ],\n",
       "       [6.82460493],\n",
       "       [2.58641615],\n",
       "       [6.72353502],\n",
       "       [3.18087778],\n",
       "       [5.45011616],\n",
       "       [5.93121799],\n",
       "       [3.8957469 ],\n",
       "       [2.83887125],\n",
       "       [7.45812742],\n",
       "       [5.43636304],\n",
       "       [7.63936595],\n",
       "       [5.4443464 ],\n",
       "       [6.23950074],\n",
       "       [5.33383772],\n",
       "       [2.99796931],\n",
       "       [6.57780678],\n",
       "       [5.03867003],\n",
       "       [4.98730317],\n",
       "       [7.28693942],\n",
       "       [3.5679118 ],\n",
       "       [2.19158842],\n",
       "       [3.75319118],\n",
       "       [3.07434423],\n",
       "       [5.91938079],\n",
       "       [2.82024581],\n",
       "       [7.41497287],\n",
       "       [5.87744321],\n",
       "       [5.41111165],\n",
       "       [5.30545327],\n",
       "       [3.22895054],\n",
       "       [3.91484308],\n",
       "       [4.89655066],\n",
       "       [4.51581146],\n",
       "       [3.58414918],\n",
       "       [5.03142508],\n",
       "       [3.8654339 ],\n",
       "       [7.49067595],\n",
       "       [6.299954  ],\n",
       "       [6.89430136],\n",
       "       [4.73259409],\n",
       "       [2.12733716],\n",
       "       [2.88803986],\n",
       "       [5.23999978],\n",
       "       [4.24993031],\n",
       "       [7.22248941],\n",
       "       [3.32107814],\n",
       "       [7.35774301],\n",
       "       [7.53648178],\n",
       "       [4.89321095],\n",
       "       [3.82035849],\n",
       "       [4.21603909],\n",
       "       [6.13980472],\n",
       "       [6.9224622 ],\n",
       "       [3.58719696],\n",
       "       [2.60868093],\n",
       "       [3.49073133],\n",
       "       [3.1130961 ],\n",
       "       [7.40443405],\n",
       "       [5.19884533],\n",
       "       [5.70214308],\n",
       "       [5.48908979],\n",
       "       [6.33361736],\n",
       "       [2.31311349],\n",
       "       [4.0618783 ],\n",
       "       [5.0306852 ],\n",
       "       [4.31811835],\n",
       "       [2.60780768],\n",
       "       [7.62275524],\n",
       "       [6.72316636],\n",
       "       [6.99641633],\n",
       "       [6.87430042],\n",
       "       [2.81286536],\n",
       "       [5.13847054],\n",
       "       [6.24225963],\n",
       "       [7.51713827],\n",
       "       [5.57201085],\n",
       "       [4.79567297],\n",
       "       [2.12610044],\n",
       "       [3.69299426],\n",
       "       [3.8053763 ],\n",
       "       [2.99594706],\n",
       "       [4.69528249],\n",
       "       [3.68802854],\n",
       "       [5.14217309],\n",
       "       [2.59751501],\n",
       "       [3.74420954],\n",
       "       [6.66134925],\n",
       "       [5.07704369],\n",
       "       [3.72897768],\n",
       "       [6.76491473],\n",
       "       [5.50446233],\n",
       "       [7.04870046],\n",
       "       [7.10729964],\n",
       "       [6.70367281],\n",
       "       [4.72688145],\n",
       "       [6.42333967],\n",
       "       [3.40695923],\n",
       "       [6.73345792],\n",
       "       [5.2869615 ],\n",
       "       [5.62839551],\n",
       "       [7.2935898 ],\n",
       "       [6.42403199],\n",
       "       [2.21552673],\n",
       "       [5.51670326],\n",
       "       [3.29679774],\n",
       "       [4.28784185],\n",
       "       [7.5112912 ],\n",
       "       [4.79059261],\n",
       "       [7.06011684],\n",
       "       [6.13119932],\n",
       "       [4.30955086],\n",
       "       [6.3856123 ],\n",
       "       [3.11225771],\n",
       "       [4.79083446],\n",
       "       [5.77537761],\n",
       "       [5.2204764 ],\n",
       "       [5.95469202],\n",
       "       [2.42136019],\n",
       "       [4.97390278],\n",
       "       [3.13540145],\n",
       "       [4.3352286 ],\n",
       "       [2.21403017],\n",
       "       [3.19112146],\n",
       "       [3.86901419],\n",
       "       [5.9818852 ],\n",
       "       [6.73633325]])"
      ]
     },
     "execution_count": 9,
     "metadata": {},
     "output_type": "execute_result"
    }
   ],
   "source": [
    "X_new_b = np.c_[np.ones((len(X),1)),X]\n",
    "y_predict = X_new_b.dot(theta_best)\n",
    "y_predict"
   ]
  },
  {
   "cell_type": "raw",
   "metadata": {},
   "source": [
    "Візуалізація результатів"
   ]
  },
  {
   "cell_type": "code",
   "execution_count": 10,
   "metadata": {},
   "outputs": [
    {
     "data": {
      "text/plain": [
       "Text(0, 0.5, '$y$')"
      ]
     },
     "execution_count": 10,
     "metadata": {},
     "output_type": "execute_result"
    },
    {
     "data": {
      "image/png": "[encoded data removed]",
      "text/plain": [
       "<Figure size 432x288 with 1 Axes>"
      ]
     },
     "metadata": {
      "needs_background": "light"
     },
     "output_type": "display_data"
    }
   ],
   "source": [
    "plt.plot(X,y_predict,'r-')\n",
    "plt.plot(X,y,'b.')\n",
    "plt.xlabel(\"$x_1$\", fontsize=18)\n",
    "plt.ylabel(\"$y$\", rotation=0, fontsize=18)"
   ]
  },
  {
   "cell_type": "code",
   "execution_count": 11,
   "metadata": {},
   "outputs": [],
   "source": [
    "def sigmoid(x):\n",
    "    return 1 / (1 + np.exp(-x))"
   ]
  },
  {
   "cell_type": "raw",
   "metadata": {},
   "source": [
    "Побудова градієнтного спуску зі штрафною функцією сігмоїда"
   ]
  },
  {
   "cell_type": "code",
   "execution_count": 12,
   "metadata": {},
   "outputs": [],
   "source": [
    "def compute_cost(X, y, theta):\n",
    "    m = len(y)\n",
    "    h = sigmoid(X @ theta)\n",
    "    epsilon = 1e-5\n",
    "    cost = (1/m)*(((-y).T @ np.log(h + epsilon))-((1-y).T @ np.log(1-h + epsilon)))\n",
    "    return cost"
   ]
  },
  {
   "cell_type": "code",
   "execution_count": 13,
   "metadata": {},
   "outputs": [],
   "source": [
    "def gradient_descent(X, y, params, learning_rate, iterations):\n",
    "    m = len(y)\n",
    "    cost_history = np.zeros((iterations,1))\n",
    "\n",
    "    for i in range(iterations):\n",
    "        params = params - (learning_rate/m) * (X.T @ (sigmoid(X @ params) - y)) \n",
    "        cost_history[i] = compute_cost(X, y, params)\n",
    "\n",
    "    return (cost_history, params)"
   ]
  },
  {
   "cell_type": "code",
   "execution_count": 14,
   "metadata": {},
   "outputs": [],
   "source": [
    "def predict(X, params):\n",
    "    return np.round(sigmoid(X @ params))"
   ]
  },
  {
   "cell_type": "raw",
   "metadata": {},
   "source": [
    "Генерація двох класів"
   ]
  },
  {
   "cell_type": "code",
   "execution_count": 24,
   "metadata": {},
   "outputs": [],
   "source": [
    "num_points = 160\n",
    "\n",
    "mean_1 = [1, 2]\n",
    "cov_1 = [[1, 0], [0, 1]]\n",
    "x_1 = np.random.multivariate_normal(mean_1, cov_1, num_points)\n",
    "\n",
    "mean_2 = [4, 5]\n",
    "cov_2 = [[2, 0], [0, 2]]\n",
    "x_2 = np.random.multivariate_normal(mean_2, cov_2, num_points)"
   ]
  },
  {
   "cell_type": "code",
   "execution_count": 25,
   "metadata": {},
   "outputs": [
    {
     "data": {
      "text/plain": [
       "<matplotlib.collections.PathCollection at 0x273963a9c70>"
      ]
     },
     "execution_count": 25,
     "metadata": {},
     "output_type": "execute_result"
    },
    {
     "data": {
      "image/png": "[encoded data removed]",
      "text/plain": [
       "<Figure size 432x288 with 1 Axes>"
      ]
     },
     "metadata": {},
     "output_type": "display_data"
    }
   ],
   "source": [
    "plt.scatter(x_1[:, 0], x_1[:, 1], marker = '^', color='coral')\n",
    "plt.scatter(x_2[:, 0], x_2[:, 1], marker = 'o', color='indigo')"
   ]
  },
  {
   "cell_type": "code",
   "execution_count": 26,
   "metadata": {},
   "outputs": [],
   "source": [
    "x = np.concatenate([x_1, x_2])\n",
    "labels = np.array([0] * num_points + [1] *  num_points)"
   ]
  },
  {
   "cell_type": "code",
   "execution_count": 27,
   "metadata": {},
   "outputs": [
    {
     "name": "stdout",
     "output_type": "stream",
     "text": [
      "Initial Cost is: [[0.69312718]] \n",
      "\n",
      "Optimal Parameters are: \n",
      " [[-3.77204328]\n",
      " [ 0.68874907]\n",
      " [ 0.73433805]] \n",
      "\n"
     ]
    },
    {
     "data": {
      "image/png": "[encoded data removed]",
      "text/plain": [
       "<Figure size 432x288 with 1 Axes>"
      ]
     },
     "metadata": {},
     "output_type": "display_data"
    }
   ],
   "source": [
    "labels = labels[:,np.newaxis]\n",
    "\n",
    "m = len(labels)\n",
    "\n",
    "X = np.hstack((np.ones((m,1)),x))\n",
    "n = np.size(X,1)\n",
    "params = np.zeros((n,1))\n",
    "\n",
    "iterations = 1000\n",
    "learning_rate = 0.05\n",
    "\n",
    "initial_cost = compute_cost(X, labels, params)\n",
    "\n",
    "print(\"Initial Cost is: {} \\n\".format(initial_cost))\n",
    "\n",
    "(cost_history, params_optimal) = gradient_descent(X, labels, params, learning_rate, iterations)\n",
    "\n",
    "print(\"Optimal Parameters are: \\n\", params_optimal, \"\\n\")\n",
    "\n",
    "plt.figure()\n",
    "sns.set_style('white')\n",
    "plt.plot(range(len(cost_history)), cost_history, 'r')\n",
    "plt.title(\"Convergence Graph of Cost Function\")\n",
    "plt.xlabel(\"Number of Iterations\")\n",
    "plt.ylabel(\"Cost\")\n",
    "plt.show()"
   ]
  },
  {
   "cell_type": "code",
   "execution_count": 28,
   "metadata": {},
   "outputs": [],
   "source": [
    "y_pred = predict(X, params_optimal)"
   ]
  },
  {
   "cell_type": "raw",
   "metadata": {},
   "source": [
    "Побудова прямої, яка розділяє класи "
   ]
  },
  {
   "cell_type": "code",
   "execution_count": 29,
   "metadata": {},
   "outputs": [
    {
     "data": {
      "image/png": "[encoded data removed]",
      "text/plain": [
       "<Figure size 432x288 with 1 Axes>"
      ]
     },
     "metadata": {},
     "output_type": "display_data"
    }
   ],
   "source": [
    "slope = -(params_optimal[1] / params_optimal[2])\n",
    "intercept = -(params_optimal[0] / params_optimal[2])\n",
    "\n",
    "sns.set_style('white')\n",
    "sns.scatterplot(X[:,1],X[:,2],hue=labels.reshape(-1));\n",
    "\n",
    "ax = plt.gca()\n",
    "ax.autoscale(False)\n",
    "x_vals = np.array(ax.get_xlim())\n",
    "y_vals = intercept + (slope * x_vals)\n",
    "plt.plot(x_vals, y_vals, c=\"k\");"
   ]
  },
  {
   "cell_type": "raw",
   "metadata": {},
   "source": [
    "Розрахунок точності моделі"
   ]
  },
  {
   "cell_type": "code",
   "execution_count": 30,
   "metadata": {},
   "outputs": [
    {
     "name": "stdout",
     "output_type": "stream",
     "text": [
      "0.93125\n"
     ]
    }
   ],
   "source": [
    "k = 0\n",
    "for i in range(len(labels)):\n",
    "    if (labels[i] == y_pred[i]):\n",
    "        k = k+1\n",
    "\n",
    "accuracy = k/len(labels)\n",
    "print(accuracy)\n"
   ]
  }
 ],
 "metadata": {
  "kernelspec": {
   "display_name": "Python 3",
   "language": "python",
   "name": "python3"
  },
  "language_info": {
   "codemirror_mode": {
    "name": "ipython",
    "version": 3
   },
   "file_extension": ".py",
   "mimetype": "text/x-python",
   "name": "python",
   "nbconvert_exporter": "python",
   "pygments_lexer": "ipython3",
   "version": "3.8.3"
  }
 },
 "nbformat": 4,
 "nbformat_minor": 4
}
